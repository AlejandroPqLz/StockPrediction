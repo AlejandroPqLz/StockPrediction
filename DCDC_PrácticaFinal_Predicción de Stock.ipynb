{
  "cells": [
    {
      "cell_type": "markdown",
      "metadata": {
        "id": "uwe6ebA_lymm"
      },
      "source": [
        "# **DCDC Ejercicio T3.4 ARIMA, SARIMA, SARIMAX<a id=\"top\"></a>**\n",
        "\n",
        "<i><small>**Alumno:** Alejandro Pequeño<br>Última actualización: 3/12/2023</small></i></div>\n",
        "\n",
        "---\n",
        "\n",
        "**Índice:**\n",
        "\n",
        "- [Imports](#-Imports)\n",
        "\n",
        "\n",
        "- [1. Carga y visualización de datos](##-1.-Carga-y-visualización-de-datos)\n",
        "\n",
        "<lr>\n",
        "\n",
        "- [2. Análisis del DataFrame](##-2.-Análisis-del-DataFrame)\n",
        "  - [2.1 Descomposición de la serie temporal](###-2.1-Descomposición-de-la-serie-temporal)\n",
        "  - [2.2 Prueba de Dickey-Fuller](###-2.2-Prueba-de-Dickey-Fuller)\n",
        "  - [2.3 Análisis de la autocorrelación](###-3.2-Análisis-de-la-autocorrelación)\n",
        "\n",
        "<lr>\n",
        "\n",
        "- [3. Métodos de Predicción](#-3.-Métodos-de-Predicción)\n",
        "  - [3.0 AR, MA, ARMA](###-3.1-AR,-MA,-ARMA)\n",
        "  - [3.1 ARIMA](###-3.1-ARIMA)\n",
        "  - [3.2 SARIMA](###-3.2-SARIMA)\n",
        "  - [3.3 SARIMAX](###-3.3-SARIMAX)\n",
        "\n",
        "<lr>\n"
      ]
    },
    {
      "cell_type": "markdown",
      "metadata": {
        "id": "JXWBqWvPlymp"
      },
      "source": [
        "## Imports"
      ]
    },
    {
      "cell_type": "code",
      "execution_count": 1,
      "metadata": {
        "id": "aUDmN-1BUUCs"
      },
      "outputs": [
        {
          "name": "stdout",
          "output_type": "stream",
          "text": [
            "Defaulting to user installation because normal site-packages is not writeable\n",
            "Requirement already satisfied: statsmodels in /home/pqlza/.local/lib/python3.10/site-packages (0.14.0)\n",
            "Requirement already satisfied: packaging>=21.3 in /home/pqlza/.local/lib/python3.10/site-packages (from statsmodels) (23.2)\n",
            "Requirement already satisfied: numpy>=1.18 in /home/pqlza/.local/lib/python3.10/site-packages (from statsmodels) (1.26.2)\n",
            "Requirement already satisfied: patsy>=0.5.2 in /home/pqlza/.local/lib/python3.10/site-packages (from statsmodels) (0.5.4)\n",
            "Requirement already satisfied: pandas>=1.0 in /home/pqlza/.local/lib/python3.10/site-packages (from statsmodels) (2.1.3)\n",
            "Requirement already satisfied: scipy!=1.9.2,>=1.4 in /home/pqlza/.local/lib/python3.10/site-packages (from statsmodels) (1.11.4)\n",
            "Requirement already satisfied: tzdata>=2022.1 in /home/pqlza/.local/lib/python3.10/site-packages (from pandas>=1.0->statsmodels) (2023.3)\n",
            "Requirement already satisfied: pytz>=2020.1 in /usr/lib/python3/dist-packages (from pandas>=1.0->statsmodels) (2022.1)\n",
            "Requirement already satisfied: python-dateutil>=2.8.2 in /home/pqlza/.local/lib/python3.10/site-packages (from pandas>=1.0->statsmodels) (2.8.2)\n",
            "Requirement already satisfied: six in /usr/lib/python3/dist-packages (from patsy>=0.5.2->statsmodels) (1.16.0)\n"
          ]
        }
      ],
      "source": [
        "# Imports\n",
        "# =====================================================================\n",
        "!pip install statsmodels\n",
        "import pandas as pd\n",
        "import numpy as np\n",
        "import warnings\n",
        "from datetime import datetime, timedelta\n",
        "from dateutil.relativedelta import relativedelta\n",
        "import scipy.stats\n",
        "import statsmodels.tsa.stattools as sts\n",
        "from statsmodels.tsa.seasonal import seasonal_decompose\n",
        "import statsmodels.graphics.tsaplots as sgt\n",
        "from statsmodels.tsa.filters.hp_filter import hpfilter\n",
        "import matplotlib.pyplot as plt\n",
        "from statsmodels.tsa.arima.model import ARIMA\n",
        "from statsmodels.graphics.tsaplots import plot_predict\n",
        "from statsmodels.tsa.statespace.sarimax import SARIMAX"
      ]
    },
    {
      "cell_type": "code",
      "execution_count": null,
      "metadata": {},
      "outputs": [],
      "source": []
    }
  ],
  "metadata": {
    "colab": {
      "provenance": []
    },
    "kernelspec": {
      "display_name": "Python 3 (ipykernel)",
      "language": "python",
      "name": "python3"
    },
    "language_info": {
      "codemirror_mode": {
        "name": "ipython",
        "version": 3
      },
      "file_extension": ".py",
      "mimetype": "text/x-python",
      "name": "python",
      "nbconvert_exporter": "python",
      "pygments_lexer": "ipython3",
      "version": "3.10.12"
    }
  },
  "nbformat": 4,
  "nbformat_minor": 0
}
